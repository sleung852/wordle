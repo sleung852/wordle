{
 "cells": [
  {
   "cell_type": "code",
   "execution_count": 155,
   "id": "08c5d603",
   "metadata": {},
   "outputs": [],
   "source": [
    "import csv\n",
    "import random\n",
    "from collections import defaultdict\n",
    "from copy import deepcopy\n",
    "from typing import List"
   ]
  },
  {
   "cell_type": "code",
   "execution_count": 2,
   "id": "8840bf9f",
   "metadata": {},
   "outputs": [],
   "source": [
    "out = csv.reader(open('Eldrow Wordlist - Sheet1.csv', 'r'))\n",
    "wordList = [line[0] for line in out]"
   ]
  },
  {
   "cell_type": "code",
   "execution_count": 3,
   "id": "0a4c759a",
   "metadata": {},
   "outputs": [],
   "source": [
    "import matplotlib.pyplot as plt"
   ]
  },
  {
   "cell_type": "code",
   "execution_count": 4,
   "id": "8cc80ba9",
   "metadata": {},
   "outputs": [],
   "source": [
    "# frequencies of letters at different positions\n",
    "freq = {i: defaultdict(int) for i in range(5)}\n",
    "for i in range(5):\n",
    "    for word in wordList:\n",
    "        freq[i][word[i]] += 1"
   ]
  },
  {
   "cell_type": "code",
   "execution_count": 172,
   "id": "200f37a7",
   "metadata": {},
   "outputs": [],
   "source": [
    "# Game Engine\n",
    "class WordleHardMode: \n",
    "    \"\"\"\n",
    "    ## four types of colour ##\n",
    "    0. no colour (initial phase)\n",
    "    1. grey - non-existing alphabet\n",
    "    2. yellow - correct alphabet but incorrect location\n",
    "    3. green - correct alphabet with correct location\n",
    "    \n",
    "    \"\"\"\n",
    "    \n",
    "    \n",
    "    def __init__(self, wordListFile = 'Eldrow Wordlist - Sheet1.csv',\n",
    "                verbose = False):\n",
    "        # game \n",
    "        self.targetWord = None\n",
    "        self.colours = [\"W\"] * 5\n",
    "        self.loadWordList(wordListFile)\n",
    "        self.guesses = []\n",
    "        self.finished = False\n",
    "        \n",
    "        # helper variables\n",
    "        self.greens = [''] * 5\n",
    "        self.yellows = [[],[],[],[],[]]\n",
    "        self.greys = []\n",
    "        \n",
    "        # game settings\n",
    "        self.verbose = verbose\n",
    "    \n",
    "    # setup\n",
    "    def loadWordList(self, f: str) -> None:\n",
    "        out = csv.reader(open(f, 'r'))\n",
    "        self.WORDLIST = [line[0] for line in out]\n",
    "        self.validWords = self.WORDLIST\n",
    "        \n",
    "    def randomTarget(self) -> None:\n",
    "        self.targetWord = random.choice(self.WORDLIST)\n",
    "        \n",
    "    def setTarget(self, targetWord: str):\n",
    "        assert targetWord in self.WORDLIST, \"Word not in word list\"\n",
    "        self.targetWord = targetWord\n",
    "        \n",
    "    # game\n",
    "    def step(self, guessWord: str) -> WordleHardMode:\n",
    "        gs = self._guess(guessWord)\n",
    "        if not gs.finished:\n",
    "            gs._getValidWords()\n",
    "        return gs\n",
    "        \n",
    "    def getLegalMoves(self) -> List[str]:\n",
    "        return self.validWords\n",
    "    \n",
    "    # helper function\n",
    "    def _guess(self, guessWord: str) -> WordleHardMode:\n",
    "        if guessWord not in self.validWords:\n",
    "#             print(\"Invalid word. Try again!\")\n",
    "            print(f\"{guessWord} is not in {self.validWords}\")\n",
    "            return\n",
    "        nextGameState = deepcopy(self)\n",
    "        nextGameState.guesses.append(guessWord)\n",
    "        if (guessWord == nextGameState.targetWord):\n",
    "            if self.verbose:\n",
    "                print(\"Game finished!\")\n",
    "            nextGameState.finished = True\n",
    "            for i in range(5):\n",
    "                nextGameState.colours[i] = \"G\"\n",
    "            return nextGameState\n",
    "        \n",
    "        for i in range(5):\n",
    "            # marked for green firsts\n",
    "            if guessWord[i] == nextGameState.targetWord[i]:\n",
    "                nextGameState.colours[i] = \"G\"\n",
    "                nextGameState.greens[i] = guessWord[i]\n",
    "                continue\n",
    "            # marked yellow or grey\n",
    "            nextGameState.colours[i] = \"X\"\n",
    "            if guessWord[i] in self.targetWord and guessWord[i] != nextGameState.targetWord[i]:\n",
    "                for j, targetChar in enumerate(self.targetWord):\n",
    "                    if i == j:\n",
    "                        continue\n",
    "                    if guessWord[i] == targetChar and \\\n",
    "                        (self.colours[j] != \"G\" or guessWord[j] == nextGameState.targetWord[j]):\n",
    "                        nextGameState.colours[i] = \"Y\"\n",
    "                        break\n",
    "            if nextGameState.colours[i] == \"Y\":\n",
    "                nextGameState.yellows[i].append(guessWord[i])\n",
    "            else:\n",
    "                nextGameState.greys.append(guessWord[i])\n",
    "        if nextGameState.verbose:\n",
    "            print(guessWord)\n",
    "            print(\"\".join(nextGameState.colours))\n",
    "        return nextGameState\n",
    "        \n",
    "    \n",
    "    def _getValidWords(self) -> None:\n",
    "        validWords = []\n",
    "        for word in self.validWords:\n",
    "            valid = True\n",
    "            for idx, char in enumerate(word):\n",
    "                # condition: green letter must be used again\n",
    "                if self.greens[idx] != '' and char != self.greens[idx]:\n",
    "                    valid = False\n",
    "                    continue\n",
    "                # condition: yellow cannot be played in the same position\n",
    "                if char in self.yellows[idx]:\n",
    "                    valid = False\n",
    "                    continue\n",
    "                # condition: grey cannot be played in any position\n",
    "                if char in self.greys:\n",
    "                    valid = False\n",
    "                    continue\n",
    "            # condition: check if all yellows are played\n",
    "            for posV in self.yellows:\n",
    "                for charYellow in posV:\n",
    "                    if charYellow not in word:\n",
    "                        valid = False\n",
    "                        continue\n",
    "            if valid:\n",
    "                validWords.append(word)\n",
    "        self.validWords = validWords\n",
    "        \n",
    "\n",
    "    def debug(self):\n",
    "        print(self.greens)\n",
    "        print(self.yellows)\n",
    "        print(self.greys)\n",
    "        \n",
    "    def __str__(self):\n",
    "        if len(self.guesses ) == 0:\n",
    "            return\n",
    "        return f\"Round {len(self.guesses)}:\\n{self.guesses[-1]}\\n{''.join(self.colours)}\""
   ]
  },
  {
   "cell_type": "code",
   "execution_count": 173,
   "id": "5320a44f",
   "metadata": {},
   "outputs": [],
   "source": [
    "gameState = WordleHardMode()\n",
    "gameState.setTarget(\"APPLE\")"
   ]
  },
  {
   "cell_type": "code",
   "execution_count": 174,
   "id": "ee212149",
   "metadata": {},
   "outputs": [],
   "source": [
    "# # test\n",
    "# nextGameState = gameState.guess(\"EXIST\")\n",
    "# print(nextGameState)\n",
    "# print(len(nextGameState.getValidWords()))"
   ]
  },
  {
   "cell_type": "code",
   "execution_count": 175,
   "id": "1d0c9ced",
   "metadata": {},
   "outputs": [],
   "source": [
    "def getMaxWord(gameState):\n",
    "    maxWord = ''\n",
    "    maxOptions = -1\n",
    "    for word in gameState.validWords:\n",
    "#         print(word)\n",
    "        nextGameState = gameState.step(word)\n",
    "        if nextGameState.finished:\n",
    "            continue\n",
    "        optionsCount = len(nextGameState.validWords)\n",
    "        if optionsCount > maxOptions:\n",
    "            maxOptions = optionsCount\n",
    "            maxWord = word\n",
    "    return maxWord, maxOptions"
   ]
  },
  {
   "cell_type": "code",
   "execution_count": 176,
   "id": "62b26517",
   "metadata": {},
   "outputs": [
    {
     "name": "stdout",
     "output_type": "stream",
     "text": [
      "1352\n",
      "Round 1:\n",
      "FUZZY\n",
      "XXXXX\n"
     ]
    }
   ],
   "source": [
    "word, count = getMaxWord(gameState)\n",
    "print(count)\n",
    "gameState = gameState.step(word)\n",
    "print(gameState)"
   ]
  },
  {
   "cell_type": "code",
   "execution_count": 180,
   "id": "c577b0df",
   "metadata": {},
   "outputs": [
    {
     "name": "stdout",
     "output_type": "stream",
     "text": [
      "Round 1:\n",
      "FUZZY\n",
      "XXXXX\n",
      "Round 2:\n",
      "VIVID\n",
      "XXXXX\n",
      "Round 3:\n",
      "BONGO\n",
      "XXXXX\n",
      "Round 4:\n",
      "MAMMA\n",
      "XYXXY\n",
      "Round 5:\n",
      "WREAK\n",
      "XXYYX\n",
      "Round 6:\n",
      "ASSET\n",
      "GXXYX\n",
      "Round 7:\n",
      "APPLE\n",
      "GGGGG\n",
      "Finished\n"
     ]
    }
   ],
   "source": [
    "gameState = WordleHardMode()\n",
    "gameState.setTarget(\"APPLE\")\n",
    "while True:\n",
    "    word, count = getMaxWord(gameState)\n",
    "    gameState = gameState.step(word)\n",
    "    print(gameState)\n",
    "    if len(gameState.validWords) == 1:\n",
    "        gameState = gameState.step(gameState.validWords[0])\n",
    "        print(gameState)\n",
    "        print(\"Finished\")\n",
    "        break"
   ]
  },
  {
   "cell_type": "code",
   "execution_count": 157,
   "id": "b4c151f6",
   "metadata": {},
   "outputs": [],
   "source": [
    "gameState = WordleHardMode()\n",
    "gameState.setTarget(\"APPLE\")"
   ]
  },
  {
   "cell_type": "code",
   "execution_count": 159,
   "id": "e35100b3",
   "metadata": {},
   "outputs": [],
   "source": [
    "for guess in [\"FUZZY\", \"VIVID\", \"BONGO\", \"MAMMA\", \"WREAK\"]:\n",
    "    gameState = gameState.step(guess)"
   ]
  },
  {
   "cell_type": "code",
   "execution_count": 161,
   "id": "9814fb5e",
   "metadata": {},
   "outputs": [
    {
     "name": "stdout",
     "output_type": "stream",
     "text": [
      "Round 5:\n",
      "WREAK\n",
      "XXYYX\n"
     ]
    }
   ],
   "source": [
    "print(gameState)"
   ]
  },
  {
   "cell_type": "code",
   "execution_count": 163,
   "id": "e289f083",
   "metadata": {},
   "outputs": [],
   "source": [
    "gs = gameState.step(\"ASSET\")"
   ]
  },
  {
   "cell_type": "code",
   "execution_count": 164,
   "id": "dc7c7e8b",
   "metadata": {},
   "outputs": [
    {
     "data": {
      "text/plain": [
       "['APPLE']"
      ]
     },
     "execution_count": 164,
     "metadata": {},
     "output_type": "execute_result"
    }
   ],
   "source": [
    "gs.validWords"
   ]
  },
  {
   "cell_type": "code",
   "execution_count": null,
   "id": "4ea2cf24",
   "metadata": {},
   "outputs": [],
   "source": []
  }
 ],
 "metadata": {
  "kernelspec": {
   "display_name": "optimas",
   "language": "python",
   "name": "optimas"
  },
  "language_info": {
   "codemirror_mode": {
    "name": "ipython",
    "version": 3
   },
   "file_extension": ".py",
   "mimetype": "text/x-python",
   "name": "python",
   "nbconvert_exporter": "python",
   "pygments_lexer": "ipython3",
   "version": "3.8.12"
  }
 },
 "nbformat": 4,
 "nbformat_minor": 5
}
