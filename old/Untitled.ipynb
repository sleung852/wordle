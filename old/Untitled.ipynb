{
 "cells": [
  {
   "cell_type": "code",
   "execution_count": 1,
   "id": "dd061d49",
   "metadata": {},
   "outputs": [],
   "source": [
    "from wordle import Wordle"
   ]
  },
  {
   "cell_type": "code",
   "execution_count": 2,
   "id": "0f97f752",
   "metadata": {},
   "outputs": [],
   "source": [
    "gameState = Wordle(hardmode=True, verbose=True)\n",
    "gameState.setTarget(\"SANDY\")"
   ]
  },
  {
   "cell_type": "code",
   "execution_count": 3,
   "id": "fd5a2e4a",
   "metadata": {},
   "outputs": [
    {
     "name": "stdout",
     "output_type": "stream",
     "text": [
      "Round 1:\n",
      "Word choices: 2315\n",
      "DADDY\n",
      "XGXGG\n",
      "target word: SANDY\n",
      "guess word: DANDY\n",
      "Checking guess_char D vs target_char S\n",
      "grey duplicated condition triggered\n",
      "char: D\n",
      "char: D\n",
      "count: 2 self.greys[char]: 1 count <= self.greys[char]: False\n",
      "Failed -> grey cannot be played in any position\n"
     ]
    },
    {
     "data": {
      "text/plain": [
       "False"
      ]
     },
     "execution_count": 3,
     "metadata": {},
     "output_type": "execute_result"
    }
   ],
   "source": [
    "gameState = gameState._guess(\"DADDY\")\n",
    "print(gameState)\n",
    "gameState._isValidWord(\"DANDY\", debug=True)"
   ]
  },
  {
   "cell_type": "code",
   "execution_count": 4,
   "id": "156b4358",
   "metadata": {},
   "outputs": [
    {
     "data": {
      "text/plain": [
       "['', 'A', '', 'D', 'Y']"
      ]
     },
     "execution_count": 4,
     "metadata": {},
     "output_type": "execute_result"
    }
   ],
   "source": [
    "gameState.greens"
   ]
  },
  {
   "cell_type": "code",
   "execution_count": 6,
   "id": "bccb4606",
   "metadata": {},
   "outputs": [
    {
     "data": {
      "text/plain": [
       "{'D': 1}"
      ]
     },
     "execution_count": 6,
     "metadata": {},
     "output_type": "execute_result"
    }
   ],
   "source": [
    "gameState.greys"
   ]
  },
  {
   "cell_type": "code",
   "execution_count": null,
   "id": "c098932b",
   "metadata": {},
   "outputs": [],
   "source": []
  },
  {
   "cell_type": "code",
   "execution_count": null,
   "id": "8247340f",
   "metadata": {},
   "outputs": [],
   "source": []
  },
  {
   "cell_type": "code",
   "execution_count": 4,
   "id": "df0dc782",
   "metadata": {},
   "outputs": [],
   "source": [
    "gameState1 = gameState.step(\"DADDY\")"
   ]
  },
  {
   "cell_type": "code",
   "execution_count": 6,
   "id": "7cc197e5",
   "metadata": {},
   "outputs": [
    {
     "name": "stdout",
     "output_type": "stream",
     "text": [
      "Round 1:\n",
      "Word choices: 2\n",
      "DADDY\n",
      "XGXGG\n"
     ]
    }
   ],
   "source": [
    "print(gameState1)"
   ]
  },
  {
   "cell_type": "code",
   "execution_count": 7,
   "id": "a32483a4",
   "metadata": {},
   "outputs": [
    {
     "data": {
      "text/plain": [
       "{'D': 1}"
      ]
     },
     "execution_count": 7,
     "metadata": {},
     "output_type": "execute_result"
    }
   ],
   "source": [
    "gameState1.greys"
   ]
  },
  {
   "cell_type": "code",
   "execution_count": 8,
   "id": "807c58f2",
   "metadata": {},
   "outputs": [
    {
     "data": {
      "text/plain": [
       "['', 'A', '', 'D', 'Y']"
      ]
     },
     "execution_count": 8,
     "metadata": {},
     "output_type": "execute_result"
    }
   ],
   "source": [
    "gameState1.greens"
   ]
  },
  {
   "cell_type": "code",
   "execution_count": 9,
   "id": "e5d67be4",
   "metadata": {},
   "outputs": [
    {
     "data": {
      "text/plain": [
       "[[], [], [], [], []]"
      ]
     },
     "execution_count": 9,
     "metadata": {},
     "output_type": "execute_result"
    }
   ],
   "source": [
    "gameState1.yellows"
   ]
  },
  {
   "cell_type": "code",
   "execution_count": 10,
   "id": "c62715be",
   "metadata": {},
   "outputs": [],
   "source": [
    "choices1 = gameState1.validWords"
   ]
  },
  {
   "cell_type": "code",
   "execution_count": 11,
   "id": "4ad2fd28",
   "metadata": {},
   "outputs": [
    {
     "data": {
      "text/plain": [
       "['DANDY', 'SANDY']"
      ]
     },
     "execution_count": 11,
     "metadata": {},
     "output_type": "execute_result"
    }
   ],
   "source": [
    "choices1"
   ]
  },
  {
   "cell_type": "code",
   "execution_count": null,
   "id": "2f11a6ff",
   "metadata": {},
   "outputs": [],
   "source": []
  }
 ],
 "metadata": {
  "kernelspec": {
   "display_name": "Python 3 (ipykernel)",
   "language": "python",
   "name": "python3"
  },
  "language_info": {
   "codemirror_mode": {
    "name": "ipython",
    "version": 3
   },
   "file_extension": ".py",
   "mimetype": "text/x-python",
   "name": "python",
   "nbconvert_exporter": "python",
   "pygments_lexer": "ipython3",
   "version": "3.9.7"
  }
 },
 "nbformat": 4,
 "nbformat_minor": 5
}
