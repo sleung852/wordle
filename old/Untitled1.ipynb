{
 "cells": [
  {
   "cell_type": "code",
   "execution_count": 1,
   "id": "d82a3df3",
   "metadata": {},
   "outputs": [
    {
     "name": "stdout",
     "output_type": "stream",
     "text": [
      "10\n"
     ]
    },
    {
     "data": {
      "text/plain": [
       "['A',\n",
       " 'F',\n",
       " 'I',\n",
       " 'X',\n",
       " 'K',\n",
       " 'P',\n",
       " 'T',\n",
       " 'Y',\n",
       " 'M',\n",
       " 'J',\n",
       " 'Z',\n",
       " 'B',\n",
       " 'G',\n",
       " 'N',\n",
       " 'D',\n",
       " 'C',\n",
       " 'S']"
      ]
     },
     "execution_count": 1,
     "metadata": {},
     "output_type": "execute_result"
    }
   ],
   "source": [
    "chars = []\n",
    "seq = ['AFFIX', 'KAPPA', 'TATTY', 'MAMMY', 'JAZZY', 'BAGGY', 'NANNY', 'DANDY', 'CANDY', 'SANDY']\n",
    "print(len(seq))\n",
    "for word in seq:\n",
    "    for i in range(5):\n",
    "        if word[i] not in chars:\n",
    "            chars.append(word[i])\n",
    "chars"
   ]
  },
  {
   "cell_type": "code",
   "execution_count": 2,
   "id": "77a32f71",
   "metadata": {},
   "outputs": [
    {
     "ename": "NameError",
     "evalue": "name 'filter_word_2' is not defined",
     "output_type": "error",
     "traceback": [
      "\u001b[0;31m---------------------------------------------------------------------------\u001b[0m",
      "\u001b[0;31mNameError\u001b[0m                                 Traceback (most recent call last)",
      "Input \u001b[0;32mIn [2]\u001b[0m, in \u001b[0;36m<module>\u001b[0;34m\u001b[0m\n\u001b[1;32m     23\u001b[0m filtered_words \u001b[38;5;241m=\u001b[39m []\n\u001b[1;32m     24\u001b[0m \u001b[38;5;28;01mfor\u001b[39;00m word \u001b[38;5;129;01min\u001b[39;00m word_list:\n\u001b[0;32m---> 25\u001b[0m     \u001b[38;5;28;01mif\u001b[39;00m filter_word(word, missing_alphabet) \u001b[38;5;129;01mand\u001b[39;00m \u001b[43mfilter_word_2\u001b[49m(word):\n\u001b[1;32m     26\u001b[0m         filtered_words\u001b[38;5;241m.\u001b[39mappend(word)\n\u001b[1;32m     27\u001b[0m missing_alphabet\n",
      "\u001b[0;31mNameError\u001b[0m: name 'filter_word_2' is not defined"
     ]
    }
   ],
   "source": [
    "alphabet = [c for c in \"ABCDEFGHIJKLMNOPQRSTUVWXYZ\"]\n",
    "missing_alphabet = alphabet\n",
    "for c in chars:\n",
    "    missing_alphabet.remove(c)\n",
    "missing_alphabet = missing_alphabet + ['A']\n",
    "missing_alphabet\n",
    "\n",
    "import csv\n",
    "out = csv.reader(open('Eldrow Wordlist - Sheet1.csv', 'r'))\n",
    "word_list = [line[0] for line in out]\n",
    "\n",
    "def filter_word(word, missing_alphabet):\n",
    "    for i in range(5):\n",
    "        if word[i] not in missing_alphabet:\n",
    "            return False\n",
    "    return True\n",
    "\n",
    "# def filter_word_2(word):\n",
    "#     if word[1] == \"A\" or word[4] == \"A\":\n",
    "#         return False\n",
    "#     return True\n",
    "\n",
    "filtered_words = []\n",
    "for word in word_list:\n",
    "    if filter_word(word, missing_alphabet) and filter_word_2(word):\n",
    "        filtered_words.append(word)\n",
    "missing_alphabet"
   ]
  },
  {
   "cell_type": "code",
   "execution_count": null,
   "id": "3738cb4d",
   "metadata": {},
   "outputs": [],
   "source": [
    "filtered_words"
   ]
  },
  {
   "cell_type": "code",
   "execution_count": 3,
   "id": "187a30ec",
   "metadata": {},
   "outputs": [
    {
     "data": {
      "text/plain": [
       "-1"
      ]
     },
     "execution_count": 3,
     "metadata": {},
     "output_type": "execute_result"
    }
   ],
   "source": [
    "'abc'.find('d')"
   ]
  },
  {
   "cell_type": "code",
   "execution_count": 140,
   "id": "2bc6a90d",
   "metadata": {},
   "outputs": [],
   "source": [
    "import csv\n",
    "from copy import deepcopy\n",
    "\n",
    "def filter_wordchain(word, missing_alphabet):\n",
    "    for i in range(5):\n",
    "        if word[i] not in missing_alphabet:\n",
    "            return False\n",
    "    return True\n",
    "\n",
    "def filter_lastword(word, lastword, targetword, seq):\n",
    "    lastchar = [c for c in lastword]\n",
    "    targetchar = [c for c in targetword]\n",
    "    still_available_char = {}\n",
    "    for char in lastchar:\n",
    "        if char in targetchar and char not in still_available_char:\n",
    "            still_available_char_idx = []\n",
    "            i = 0\n",
    "            found = lastword.find(char, 0)\n",
    "            while (found != -1):\n",
    "                still_available_char_idx.append(found)\n",
    "                found = lastword.find(char, found+1)\n",
    "            still_available_char[char] = still_available_char_idx\n",
    "            \n",
    "    target_counts = {c: targetword.count(c) for c in still_available_char.keys()}\n",
    "    last_count = {c: lastword.count(c) for c in still_available_char.keys()}\n",
    "                \n",
    "    for char, idxs in still_available_char.items():\n",
    "        \n",
    "        count = word.count(char)\n",
    "        # count must be less than \n",
    "        if (last_count[char] > target_counts[char]):\n",
    "            if (count >= last_count[char]):\n",
    "#                 print('condition 1')\n",
    "                return False\n",
    "\n",
    "        # logic to implement: if last is inccorect, you cannot be correct\n",
    "        \n",
    "        for idx in idxs:\n",
    "            # next this word \n",
    "            if (word[idx] == char) and (targetword[idx] != char):\n",
    "#                 print(word, idx, char)\n",
    "#                 print('condition 2')\n",
    "                return False\n",
    "\n",
    "            if (word[idx] == char) and (targetword[idx] == char) and (lastword[idx] != char):\n",
    "                return False\n",
    "\n",
    "# ['KAYAK', 'RALLY', 'MAMMY', 'JAZZY', 'BAGGY', 'NANNY', 'DANDY', 'CANDY', 'SANDY']\n",
    "# WITTY\n",
    "\n",
    "            for i in range(5):\n",
    "                if word[i] == char and lastword[i] != char and targetword[i] == word[i]:\n",
    "                    return False\n",
    "                \n",
    "        lastwordcount = lastword.count(char)\n",
    "        targetcount = targetword.count(char)\n",
    "#         if count > lastwordcount and lastwordcount == targetcount:\n",
    "#             for word_i in seq[1:-1]:\n",
    "#                 if word_i.count(char) > targetcount:\n",
    "#                     return False\n",
    "        if count > targetcount:\n",
    "            for word_i in seq[:-1]:\n",
    "                if word_i.count(char) > targetcount:\n",
    "                    return False\n",
    "        \n",
    "    return True\n",
    "\n",
    "def unique_chars_blah(lastword, targetword):\n",
    "    lastchar = [c for c in lastword]\n",
    "    targetchar = [c for c in targetword]\n",
    "    still_available_char = {}\n",
    "    for char in lastchar:\n",
    "        if char in targetchar and char not in still_available_char:\n",
    "            still_available_char[char] = 1\n",
    "    return list(still_available_char.keys())\n",
    "    \n",
    "\n",
    "# ['AFFIX', 'KAPPA', 'TATTY', 'MAMMY', 'JAZZY', 'BAGGY', 'NANNY', 'DANDY', 'CANDY', 'SANDY']\n",
    "\n",
    "class gameEngine:\n",
    "    \n",
    "    def __init__(self, seq):\n",
    "        self.seq = seq\n",
    "        self.yellows = []\n",
    "        self.get_word_list()\n",
    "        self.prepare()\n",
    "    \n",
    "    def step(self, word):\n",
    "        nextGamestate = deepcopy(self)\n",
    "        nextGamestate.seq = [word] + nextGamestate.seq\n",
    "        nextGamestate.prepare()\n",
    "        return nextGamestate\n",
    "    \n",
    "    def prepare(self):\n",
    "        \n",
    "        # filter chars from seq\n",
    "        self.chars = []\n",
    "        for word in self.seq:\n",
    "            for i in range(5):\n",
    "                if word[i] not in self.chars:\n",
    "                    self.chars.append(word[i])\n",
    "#         for i in range(5):\n",
    "#             if self.seq[0][i] not in word[-1]:\n",
    "#                 self.chars.append(self.seq[0][i])\n",
    "                    \n",
    "        missing_alphabet = [c for c in \"ABCDEFGHIJKLMNOPQRSTUVWXYZ\"]\n",
    "        for c in self.chars:\n",
    "            missing_alphabet.remove(c)\n",
    "#         print(missing_alphabet)\n",
    "            \n",
    "        missing_alphabet += unique_chars_blah(self.seq[0], self.seq[-1])\n",
    "        \n",
    "#         print(missing_alphabet)\n",
    "\n",
    "        filtered_words = []\n",
    "        for word in self.legalwords:\n",
    "            if filter_wordchain(word, missing_alphabet) and filter_lastword(word, self.seq[0], self.seq[-1], self.seq):\n",
    "                filtered_words.append(word)\n",
    "                \n",
    "        self.legalwords = filtered_words\n",
    "                    \n",
    "    def get_word_list(self):\n",
    "        out = csv.reader(open('Eldrow Wordlist - Sheet1.csv', 'r'))\n",
    "        self.legalwords = [line[0] for line in out]\n",
    "        \n",
    "    def __str__(self):\n",
    "        return str(self.seq)\n",
    "    \n",
    "    def __hash__(self):\n",
    "        return hash(str(self))"
   ]
  },
  {
   "cell_type": "code",
   "execution_count": 141,
   "id": "dabeb606",
   "metadata": {
    "scrolled": true
   },
   "outputs": [
    {
     "name": "stdout",
     "output_type": "stream",
     "text": [
      "['QUEER', 'RARER', 'ODDER', 'FOYER', 'HOMER', 'JOKER', 'VOTER', 'GONER', 'BOXER', 'WOOER', 'POWER', 'SOWER', 'LOWER']\n",
      "[]\n"
     ]
    }
   ],
   "source": [
    "g = gameEngine(['QUEER', 'RARER', 'ODDER', 'FOYER', 'HOMER', 'JOKER', 'VOTER', 'GONER', 'BOXER', 'WOOER', 'POWER', 'SOWER', 'LOWER'])\n",
    "g.prepare()\n",
    "print(g.seq)\n",
    "g.legalwords\n",
    "print(g.legalwords)"
   ]
  },
  {
   "cell_type": "code",
   "execution_count": 144,
   "id": "5c37e82d",
   "metadata": {},
   "outputs": [
    {
     "name": "stdout",
     "output_type": "stream",
     "text": [
      "Max Length: 5\n",
      "['HUMPH', 'VIVID', 'WRYLY', 'ZONAL', 'SLATE']\n",
      "Max Length: 6\n",
      "['CHUCK', 'PYGMY', 'AFFIX', 'LARVA', 'ZONAL', 'SLATE']\n",
      "Max Length: 7\n",
      "['POUCH', 'VIVID', 'MAMMA', 'ANNEX', 'WREAK', 'YEAST', 'SLATE']\n",
      "Max Length: 8\n",
      "['GRUFF', 'POOCH', 'VIVID', 'MAMMA', 'ANNEX', 'TWEAK', 'YEAST', 'SLATE']\n",
      "Max Length: 9\n",
      "['BOOBY', 'DREAD', 'GAFFE', 'AMAZE', 'INANE', 'PEACE', 'QUAKE', 'WHALE', 'SLATE']\n",
      "Max Length: 10\n",
      "['WOOZY', 'AFFIX', 'MAMMA', 'CEASE', 'USAGE', 'SHADE', 'SNAKE', 'SPARE', 'STAVE', 'SLATE']\n",
      "Max Length: 11\n",
      "['JIFFY', 'COCOA', 'RARER', 'WEAVE', 'ABASE', 'USAGE', 'SHAME', 'SNAKE', 'SPADE', 'STATE', 'SLATE']\n"
     ]
    },
    {
     "ename": "KeyboardInterrupt",
     "evalue": "",
     "output_type": "error",
     "traceback": [
      "\u001b[0;31m---------------------------------------------------------------------------\u001b[0m",
      "\u001b[0;31mKeyboardInterrupt\u001b[0m                         Traceback (most recent call last)",
      "Input \u001b[0;32mIn [144]\u001b[0m, in \u001b[0;36m<module>\u001b[0;34m\u001b[0m\n\u001b[1;32m     24\u001b[0m         \u001b[38;5;28mprint\u001b[39m(gameState\u001b[38;5;241m.\u001b[39mseq)\n\u001b[1;32m     26\u001b[0m \u001b[38;5;28;01mfor\u001b[39;00m word \u001b[38;5;129;01min\u001b[39;00m wordchoices:\n\u001b[0;32m---> 27\u001b[0m     nextGameState \u001b[38;5;241m=\u001b[39m \u001b[43mgameState\u001b[49m\u001b[38;5;241;43m.\u001b[39;49m\u001b[43mstep\u001b[49m\u001b[43m(\u001b[49m\u001b[43mword\u001b[49m\u001b[43m)\u001b[49m\n\u001b[1;32m     28\u001b[0m     temp\u001b[38;5;241m.\u001b[39mappend(nextGameState)\n\u001b[1;32m     30\u001b[0m cache \u001b[38;5;241m+\u001b[39m\u001b[38;5;241m=\u001b[39m temp\n",
      "Input \u001b[0;32mIn [140]\u001b[0m, in \u001b[0;36mgameEngine.step\u001b[0;34m(self, word)\u001b[0m\n\u001b[1;32m     89\u001b[0m nextGamestate \u001b[38;5;241m=\u001b[39m deepcopy(\u001b[38;5;28mself\u001b[39m)\n\u001b[1;32m     90\u001b[0m nextGamestate\u001b[38;5;241m.\u001b[39mseq \u001b[38;5;241m=\u001b[39m [word] \u001b[38;5;241m+\u001b[39m nextGamestate\u001b[38;5;241m.\u001b[39mseq\n\u001b[0;32m---> 91\u001b[0m \u001b[43mnextGamestate\u001b[49m\u001b[38;5;241;43m.\u001b[39;49m\u001b[43mprepare\u001b[49m\u001b[43m(\u001b[49m\u001b[43m)\u001b[49m\n\u001b[1;32m     92\u001b[0m \u001b[38;5;28;01mreturn\u001b[39;00m nextGamestate\n",
      "Input \u001b[0;32mIn [140]\u001b[0m, in \u001b[0;36mgameEngine.prepare\u001b[0;34m(self)\u001b[0m\n\u001b[1;32m    106\u001b[0m         missing_alphabet \u001b[38;5;241m=\u001b[39m [c \u001b[38;5;28;01mfor\u001b[39;00m c \u001b[38;5;129;01min\u001b[39;00m \u001b[38;5;124m\"\u001b[39m\u001b[38;5;124mABCDEFGHIJKLMNOPQRSTUVWXYZ\u001b[39m\u001b[38;5;124m\"\u001b[39m]\n\u001b[1;32m    107\u001b[0m         \u001b[38;5;28;01mfor\u001b[39;00m c \u001b[38;5;129;01min\u001b[39;00m \u001b[38;5;28mself\u001b[39m\u001b[38;5;241m.\u001b[39mchars:\n\u001b[0;32m--> 108\u001b[0m             \u001b[43mmissing_alphabet\u001b[49m\u001b[38;5;241;43m.\u001b[39;49m\u001b[43mremove\u001b[49m\u001b[43m(\u001b[49m\u001b[43mc\u001b[49m\u001b[43m)\u001b[49m\n\u001b[1;32m    109\u001b[0m \u001b[38;5;66;03m#         print(missing_alphabet)\u001b[39;00m\n\u001b[1;32m    111\u001b[0m         missing_alphabet \u001b[38;5;241m+\u001b[39m\u001b[38;5;241m=\u001b[39m unique_chars_blah(\u001b[38;5;28mself\u001b[39m\u001b[38;5;241m.\u001b[39mseq[\u001b[38;5;241m0\u001b[39m], \u001b[38;5;28mself\u001b[39m\u001b[38;5;241m.\u001b[39mseq[\u001b[38;5;241m-\u001b[39m\u001b[38;5;241m1\u001b[39m])\n",
      "\u001b[0;31mKeyboardInterrupt\u001b[0m: "
     ]
    }
   ],
   "source": [
    "from collections import deque\n",
    "\n",
    "current_list = ['SLATE']\n",
    "\n",
    "max_length = len(current_list)\n",
    "\n",
    "gs = gameEngine(current_list)\n",
    "\n",
    "# print(gs.legalwords)\n",
    "\n",
    "cache = [gs.step(word) for word in gs.legalwords]\n",
    "\n",
    "while (len(cache) > 0):\n",
    "    gameState = cache.pop()\n",
    "    gameState.prepare()\n",
    "\n",
    "    wordchoices = gameState.legalwords\n",
    "    temp = []\n",
    "    # if finish\n",
    "    if len(wordchoices) == 0:\n",
    "        if len(gameState.seq) > max_length:\n",
    "            max_length = len(gameState.seq)\n",
    "            print(\"Max Length:\", max_length)\n",
    "            print(gameState.seq)\n",
    "\n",
    "    for word in wordchoices:\n",
    "        nextGameState = gameState.step(word)\n",
    "        temp.append(nextGameState)\n",
    "        \n",
    "    cache += temp\n",
    "#     print(len(cache))\n",
    "print(max_length)"
   ]
  },
  {
   "cell_type": "code",
   "execution_count": 78,
   "id": "01116eb1",
   "metadata": {},
   "outputs": [
    {
     "data": {
      "text/plain": [
       "True"
      ]
     },
     "execution_count": 78,
     "metadata": {},
     "output_type": "execute_result"
    }
   ],
   "source": [
    "filter_lastword('TATTY', 'MAMMY', 'SANDY')"
   ]
  },
  {
   "cell_type": "code",
   "execution_count": 145,
   "id": "10494785",
   "metadata": {},
   "outputs": [],
   "source": [
    "x = ['GRAZE', 'INNER', 'QUEER', 'ODDER', 'BOXER', 'FOYER', 'HOVER', 'JOKER', 'WOOER', 'COWER', 'LOWER', 'MOWER', 'POWER', 'ROWER', 'SOWER', 'TOWER']\n",
    "a = \"\"\n",
    "for i in x:\n",
    "    a+=i+','"
   ]
  },
  {
   "cell_type": "code",
   "execution_count": 146,
   "id": "0ad44eae",
   "metadata": {},
   "outputs": [
    {
     "data": {
      "text/plain": [
       "'GRAZE,INNER,QUEER,ODDER,BOXER,FOYER,HOVER,JOKER,WOOER,COWER,LOWER,MOWER,POWER,ROWER,SOWER,TOWER,'"
      ]
     },
     "execution_count": 146,
     "metadata": {},
     "output_type": "execute_result"
    }
   ],
   "source": [
    "a"
   ]
  },
  {
   "cell_type": "code",
   "execution_count": null,
   "id": "bff20f01",
   "metadata": {},
   "outputs": [],
   "source": []
  },
  {
   "cell_type": "code",
   "execution_count": null,
   "id": "eb1f740b",
   "metadata": {},
   "outputs": [],
   "source": [
    "x = ['GRAZE', 'INNER', 'QUEER', 'ODDER', 'BOXER', 'FOYER', 'HOVER', 'JOKER', 'WOOER', 'COWER', 'LOWER', 'MOWER', 'POWER', 'ROWER', 'SOWER', 'TOWER']"
   ]
  },
  {
   "cell_type": "code",
   "execution_count": null,
   "id": "c3478a8b",
   "metadata": {},
   "outputs": [],
   "source": [
    "['EIGHT','FIGHT','LIGHT','MIGHT','NIGHT','RIGHT','SIGHT','TIGHT','WIGHT']"
   ]
  }
 ],
 "metadata": {
  "kernelspec": {
   "display_name": "Python 3 (ipykernel)",
   "language": "python",
   "name": "python3"
  },
  "language_info": {
   "codemirror_mode": {
    "name": "ipython",
    "version": 3
   },
   "file_extension": ".py",
   "mimetype": "text/x-python",
   "name": "python",
   "nbconvert_exporter": "python",
   "pygments_lexer": "ipython3",
   "version": "3.9.7"
  }
 },
 "nbformat": 4,
 "nbformat_minor": 5
}
